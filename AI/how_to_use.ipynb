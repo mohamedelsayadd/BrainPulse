{
  "nbformat": 4,
  "nbformat_minor": 0,
  "metadata": {
    "colab": {
      "provenance": []
    },
    "kernelspec": {
      "name": "python3",
      "display_name": "Python 3"
    },
    "language_info": {
      "name": "python"
    }
  },
  "cells": [
    {
      "cell_type": "markdown",
      "source": [
        "# **import run_pipeline Function from pipeline.py**"
      ],
      "metadata": {
        "id": "BiR5RUOUFoYv"
      }
    },
    {
      "cell_type": "code",
      "execution_count": 1,
      "metadata": {
        "id": "SbRXR9YoAW-y"
      },
      "outputs": [],
      "source": [
        "from pipeline import run_pipeline"
      ]
    },
    {
      "cell_type": "markdown",
      "source": [
        "# **use the function for predict based on spectrogram file**"
      ],
      "metadata": {
        "id": "oZara1l2F4et"
      }
    },
    {
      "cell_type": "code",
      "source": [
        "print(run_pipeline(model_path=\"/content/EEGModelw.pth\",data_path=\"/content/spectrogram.csv\",raw_eeg=False))"
      ],
      "metadata": {
        "colab": {
          "base_uri": "https://localhost:8080/"
        },
        "id": "DUaF8F85BWtM",
        "outputId": "498fa5fa-d647-4c1c-d3a0-1589229070d2"
      },
      "execution_count": 2,
      "outputs": [
        {
          "output_type": "stream",
          "name": "stdout",
          "text": [
            "Seizure\n"
          ]
        }
      ]
    },
    {
      "cell_type": "markdown",
      "source": [
        "# **use the function for predict based on eeg file**"
      ],
      "metadata": {
        "id": "x4qbG4hBGhrw"
      }
    },
    {
      "cell_type": "code",
      "source": [
        "print(run_pipeline(model_path=\"/content/EEGModelw.pth\",data_path=\"/content/eeg.csv\",raw_eeg=True))"
      ],
      "metadata": {
        "colab": {
          "base_uri": "https://localhost:8080/"
        },
        "id": "9Yk-o2JmB1Lq",
        "outputId": "18f87114-600a-48a4-f366-7b373d7ca7d7"
      },
      "execution_count": 3,
      "outputs": [
        {
          "output_type": "stream",
          "name": "stdout",
          "text": [
            "Other\n"
          ]
        }
      ]
    }
  ]
}